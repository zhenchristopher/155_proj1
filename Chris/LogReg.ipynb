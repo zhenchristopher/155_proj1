{
 "cells": [
  {
   "cell_type": "code",
   "execution_count": 2,
   "metadata": {
    "collapsed": true
   },
   "outputs": [],
   "source": [
    "# Import random shit\n",
    "import numpy as np\n",
    "import matplotlib.pyplot as plt\n",
    "\n",
    "# Get that yum yum sklearn\n",
    "from sklearn.linear_model import LogisticRegression\n",
    "from sklearn.preprocessing import StandardScaler\n",
    "from sklearn.feature_extraction.text import TfidfTransformer as TFT\n",
    "\n",
    "# Cross validation\n",
    "from sklearn.model_selection import GridSearchCV\n",
    "from sklearn.model_selection import ShuffleSplit\n",
    "\n",
    "%matplotlib inline"
   ]
  },
  {
   "cell_type": "code",
   "execution_count": 3,
   "metadata": {
    "collapsed": true
   },
   "outputs": [],
   "source": [
    "# Load our data and shit\n",
    "train_data = np.loadtxt('./training_data.txt', skiprows=1, delimiter=' ')\n",
    "test_data = np.loadtxt('./test_data.txt', skiprows=1, delimiter=' ')"
   ]
  },
  {
   "cell_type": "code",
   "execution_count": 4,
   "metadata": {},
   "outputs": [],
   "source": [
    "# Split training and test set into x and y\n",
    "scaler = StandardScaler()\n",
    "scaler_t = TFT()\n",
    "\n",
    "x_train = scaler.fit_transform(train_data[:, 1:])\n",
    "y_train = train_data[:, 0]\n",
    "\n",
    "x_train_t = scaler_t.fit_transform(train_data[:, 1:])\n",
    "\n",
    "x_test = scaler_t.transform(test_data)"
   ]
  },
  {
   "cell_type": "code",
   "execution_count": 5,
   "metadata": {},
   "outputs": [
    {
     "name": "stdout",
     "output_type": "stream",
     "text": [
      "Fitting 5 folds for each of 6 candidates, totalling 30 fits\n"
     ]
    },
    {
     "name": "stderr",
     "output_type": "stream",
     "text": [
      "[Parallel(n_jobs=4)]: Done  30 out of  30 | elapsed:   11.6s finished\n"
     ]
    },
    {
     "data": {
      "text/plain": [
       "GridSearchCV(cv=ShuffleSplit(n_splits=5, random_state=0, test_size=0.2, train_size=None),\n",
       "       error_score='raise',\n",
       "       estimator=LogisticRegression(C=1.0, class_weight=None, dual=False, fit_intercept=True,\n",
       "          intercept_scaling=1, max_iter=100, multi_class='ovr', n_jobs=1,\n",
       "          penalty='l2', random_state=None, solver='liblinear', tol=0.0001,\n",
       "          verbose=0, warm_start=False),\n",
       "       fit_params=None, iid=True, n_jobs=4,\n",
       "       param_grid={'penalty': ['l2'], 'C': [1.48, 1.5, 1.52, 1.54, 1.56, 1.58]},\n",
       "       pre_dispatch='2*n_jobs', refit=True, return_train_score=True,\n",
       "       scoring=None, verbose=1)"
      ]
     },
     "execution_count": 5,
     "metadata": {},
     "output_type": "execute_result"
    }
   ],
   "source": [
    "params = {'penalty':['l2'],\n",
    "          'C':[1.48, 1.5, 1.52, 1.54, 1.56, 1.58]}\n",
    "\n",
    "log_reg = LogisticRegression()\n",
    "cv = ShuffleSplit(n_splits=5, test_size=0.2, random_state=0)\n",
    "\n",
    "clf = GridSearchCV(log_reg, params, verbose=1, cv=cv, n_jobs=4)\n",
    "clf.fit(x_train_t, y_train)"
   ]
  },
  {
   "cell_type": "code",
   "execution_count": 6,
   "metadata": {},
   "outputs": [
    {
     "data": {
      "text/plain": [
       "{'mean_fit_time': array([ 0.71630435,  0.93466167,  0.99430351,  0.98589845,  1.02612581,\n",
       "         1.17162762]),\n",
       " 'mean_score_time': array([ 0.00620475,  0.00760612,  0.0038034 ,  0.00700493,  0.00480371,\n",
       "         0.00460458]),\n",
       " 'mean_test_score': array([ 0.85365,  0.8534 ,  0.85335,  0.8535 ,  0.8535 ,  0.85345]),\n",
       " 'mean_train_score': array([ 0.8760125,  0.876025 ,  0.8761   ,  0.8761875,  0.8762125,\n",
       "         0.8761875]),\n",
       " 'param_C': masked_array(data = [1.48 1.5 1.52 1.54 1.56 1.58],\n",
       "              mask = [False False False False False False],\n",
       "        fill_value = ?),\n",
       " 'param_penalty': masked_array(data = ['l2' 'l2' 'l2' 'l2' 'l2' 'l2'],\n",
       "              mask = [False False False False False False],\n",
       "        fill_value = ?),\n",
       " 'params': [{'C': 1.48, 'penalty': 'l2'},\n",
       "  {'C': 1.5, 'penalty': 'l2'},\n",
       "  {'C': 1.52, 'penalty': 'l2'},\n",
       "  {'C': 1.54, 'penalty': 'l2'},\n",
       "  {'C': 1.56, 'penalty': 'l2'},\n",
       "  {'C': 1.58, 'penalty': 'l2'}],\n",
       " 'rank_test_score': array([1, 5, 6, 2, 2, 4]),\n",
       " 'split0_test_score': array([ 0.853  ,  0.8525 ,  0.8525 ,  0.8525 ,  0.85225,  0.85225]),\n",
       " 'split0_train_score': array([ 0.8759375,  0.876    ,  0.87625  ,  0.8765625,  0.876625 ,\n",
       "         0.8766875]),\n",
       " 'split1_test_score': array([ 0.85   ,  0.8495 ,  0.84925,  0.84925,  0.84925,  0.84925]),\n",
       " 'split1_train_score': array([ 0.8774375,  0.877375 ,  0.877375 ,  0.8774375,  0.8775   ,\n",
       "         0.8773125]),\n",
       " 'split2_test_score': array([ 0.858  ,  0.858  ,  0.858  ,  0.85825,  0.85875,  0.85875]),\n",
       " 'split2_train_score': array([ 0.8760625,  0.8759375,  0.876    ,  0.876    ,  0.875875 ,  0.87575  ]),\n",
       " 'split3_test_score': array([ 0.85675,  0.85675,  0.85675,  0.85725,  0.857  ,  0.85675]),\n",
       " 'split3_train_score': array([ 0.8738125,  0.873875 ,  0.873875 ,  0.873875 ,  0.8739375,\n",
       "         0.8740625]),\n",
       " 'split4_test_score': array([ 0.8505 ,  0.85025,  0.85025,  0.85025,  0.85025,  0.85025]),\n",
       " 'split4_train_score': array([ 0.8768125,  0.8769375,  0.877    ,  0.8770625,  0.877125 ,\n",
       "         0.877125 ]),\n",
       " 'std_fit_time': array([ 0.23725882,  0.11716567,  0.13669871,  0.13432202,  0.13693612,\n",
       "         0.12983386]),\n",
       " 'std_score_time': array([ 0.00325189,  0.0087151 ,  0.00074875,  0.00751469,  0.00222819,\n",
       "         0.00102067]),\n",
       " 'std_test_score': array([ 0.0032311 ,  0.00341541,  0.00347347,  0.00364005,  0.00374166,\n",
       "         0.00369594]),\n",
       " 'std_train_score': array([ 0.00122627,  0.00120714,  0.00121809,  0.00125312,  0.00126095,\n",
       "         0.00119177])}"
      ]
     },
     "execution_count": 6,
     "metadata": {},
     "output_type": "execute_result"
    }
   ],
   "source": [
    "clf.cv_results_"
   ]
  },
  {
   "cell_type": "code",
   "execution_count": 7,
   "metadata": {
    "collapsed": true
   },
   "outputs": [],
   "source": [
    "log_reg_y = clf.predict(x_test)\n",
    "log_reg_probs = clf.predict_proba(x_test)"
   ]
  },
  {
   "cell_type": "code",
   "execution_count": 8,
   "metadata": {
    "collapsed": true
   },
   "outputs": [],
   "source": [
    "def convert(y_test, filename):\n",
    "    \"\"\"\n",
    "    Converts the y_test vector to submission file and saves to filename\n",
    "    \n",
    "    Inputs:\n",
    "        y_test: A (N, ) array with the predicted results for the test set\n",
    "        filename: String name of file\n",
    "        \n",
    "    Outputs:\n",
    "        None\n",
    "    \"\"\"\n",
    "    \n",
    "    text_file = np.array([[i+1, int(y_test[i])] for i in range(len(y_test))])\n",
    "    np.savetxt(filename, text_file, fmt='%d', delimiter=',')\n",
    "    \n",
    "    f = open(filename,'r+')\n",
    "    lines = f.readlines() # read old content\n",
    "    f.seek(0) # go back to the beginning of the file\n",
    "    f.write('Id,Prediction\\n') # write new content at the beginning\n",
    "    for line in lines: # write old content after new\n",
    "        f.write(line)\n",
    "    f.close()"
   ]
  },
  {
   "cell_type": "code",
   "execution_count": 9,
   "metadata": {
    "collapsed": true
   },
   "outputs": [],
   "source": [
    "convert(log_reg_y, 'log_reg.txt')\n",
    "np.savetxt('log_reg_probs.txt', log_reg_probs)"
   ]
  },
  {
   "cell_type": "code",
   "execution_count": null,
   "metadata": {
    "collapsed": true
   },
   "outputs": [],
   "source": []
  }
 ],
 "metadata": {
  "kernelspec": {
   "display_name": "Python [conda root]",
   "language": "python",
   "name": "conda-root-py"
  },
  "language_info": {
   "codemirror_mode": {
    "name": "ipython",
    "version": 3
   },
   "file_extension": ".py",
   "mimetype": "text/x-python",
   "name": "python",
   "nbconvert_exporter": "python",
   "pygments_lexer": "ipython3",
   "version": "3.6.2"
  }
 },
 "nbformat": 4,
 "nbformat_minor": 2
}
