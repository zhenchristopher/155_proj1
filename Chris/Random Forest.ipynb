{
 "cells": [
  {
   "cell_type": "code",
   "execution_count": 1,
   "metadata": {
    "collapsed": true
   },
   "outputs": [],
   "source": [
    "# Import random shit\n",
    "import numpy as np\n",
    "import matplotlib.pyplot as plt\n",
    "\n",
    "# Get that yum yum sklearn\n",
    "from sklearn import tree\n",
    "from sklearn.ensemble import RandomForestClassifier\n",
    "from sklearn.ensemble import ExtraTreesClassifier\n",
    "from sklearn.preprocessing import StandardScaler\n",
    "from sklearn.feature_extraction.text import TfidfTransformer as TFT\n",
    "\n",
    "# Cross validation\n",
    "from sklearn.model_selection import cross_val_score\n",
    "from sklearn.model_selection import ShuffleSplit\n",
    "\n",
    "%matplotlib inline"
   ]
  },
  {
   "cell_type": "code",
   "execution_count": 2,
   "metadata": {
    "collapsed": true
   },
   "outputs": [],
   "source": [
    "# Load our data and shit\n",
    "train_data = np.loadtxt('./training_data.txt', skiprows=1, delimiter=' ')\n",
    "test_data = np.loadtxt('./test_data.txt', skiprows=1, delimiter=' ')"
   ]
  },
  {
   "cell_type": "code",
   "execution_count": 3,
   "metadata": {
    "collapsed": true
   },
   "outputs": [],
   "source": [
    "# Split training and test set into x and y\n",
    "scaler = StandardScaler()\n",
    "scaler_t = TFT()\n",
    "\n",
    "x_train = scaler.fit_transform(train_data[:, 1:])\n",
    "y_train = train_data[:, 0]\n",
    "\n",
    "x_train_t = scaler_t.fit_transform(train_data[:, 1:])\n",
    "\n",
    "x_train_d = np.empty(x_train.shape)\n",
    "x_train_d[:] = x_train\n",
    "\n",
    "for ii in range(1, 1000):\n",
    "    m = np.max(x_train_d[:,ii])\n",
    "    x_train_d[:,ii] /= m\n",
    "    #x_test[:,ii] /= m\n",
    "\n",
    "x_test = scaler_t.transform(test_data)"
   ]
  },
  {
   "cell_type": "code",
   "execution_count": 14,
   "metadata": {},
   "outputs": [
    {
     "name": "stdout",
     "output_type": "stream",
     "text": [
      "Standardization: 0.82205890\n",
      "Normalization: 0.82135893\n",
      "TFIDF: 0.82215889\n"
     ]
    }
   ],
   "source": [
    "clf = RandomForestClassifier(n_estimators=100, n_jobs=-1, min_samples_leaf=1, criterion = 'gini')\n",
    "ss = ShuffleSplit(n_splits=3, test_size=1/3, random_state=0)\n",
    "\n",
    "print(\"Standardization: {0:.8f}\".format(np.mean(cross_val_score(clf, x_train, y_train, cv=ss))))\n",
    "print(\"Normalization: {0:.8f}\".format(np.mean(cross_val_score(clf, x_train_d, y_train, cv=ss))))\n",
    "print(\"TFIDF: {0:.8f}\".format(np.mean(cross_val_score(clf, x_train_t, y_train, cv=ss))))"
   ]
  },
  {
   "cell_type": "code",
   "execution_count": 96,
   "metadata": {},
   "outputs": [
    {
     "data": {
      "text/plain": [
       "20000"
      ]
     },
     "execution_count": 96,
     "metadata": {},
     "output_type": "execute_result"
    }
   ],
   "source": [
    "len(train_data)"
   ]
  },
  {
   "cell_type": "code",
   "execution_count": 15,
   "metadata": {
    "scrolled": true
   },
   "outputs": [
    {
     "name": "stdout",
     "output_type": "stream",
     "text": [
      "Current leaf-size:     1.0000\n",
      "Current leaf-size:     2.0000\n",
      "Current leaf-size:     3.0000\n",
      "Current leaf-size:     4.0000\n"
     ]
    }
   ],
   "source": [
    "# Try a random forest classifier\n",
    "n_estimators = 1000\n",
    "clf = RandomForestClassifier(n_estimators = n_estimators, n_jobs=-1, criterion = 'gini')\n",
    "ss = ShuffleSplit(n_splits=5, test_size=0.2)\n",
    "\n",
    "# Vary minimum leaf size:\n",
    "leafs = np.arange(1, 5, 1)\n",
    "errors = np.empty(len(leafs))\n",
    "\n",
    "for ind, leaf_size in enumerate(leafs):\n",
    "    print(\"Current leaf-size: {0:10.4f}\".format(leaf_size))\n",
    "    clf.set_params(min_samples_leaf=leaf_size)\n",
    "    errors[ind] = np.mean(cross_val_score(clf, x_train_t, y_train, cv=ss))"
   ]
  },
  {
   "cell_type": "code",
   "execution_count": 16,
   "metadata": {},
   "outputs": [
    {
     "data": {
      "text/plain": [
       "[<matplotlib.lines.Line2D at 0x1b41e5bcac8>]"
      ]
     },
     "execution_count": 16,
     "metadata": {},
     "output_type": "execute_result"
    },
    {
     "data": {
      "image/png": "[encoded data removed]",
      "text/plain": [
       "<matplotlib.figure.Figure at 0x1b41e2a84e0>"
      ]
     },
     "metadata": {},
     "output_type": "display_data"
    }
   ],
   "source": [
    "plt.figure()\n",
    "plt.plot(leafs, errors)"
   ]
  },
  {
   "cell_type": "code",
   "execution_count": 17,
   "metadata": {
    "scrolled": true
   },
   "outputs": [
    {
     "name": "stdout",
     "output_type": "stream",
     "text": [
      "Current leaf-size:     1.0000\n",
      "Current leaf-size:     2.0000\n",
      "Current leaf-size:     3.0000\n",
      "Current leaf-size:     4.0000\n"
     ]
    }
   ],
   "source": [
    "# Try a extra forest classifier\n",
    "n_estimators = 1000\n",
    "clf = ExtraTreesClassifier(n_estimators = n_estimators, n_jobs=-1, criterion = 'gini')\n",
    "ss = ShuffleSplit(n_splits=5, test_size=0.2)\n",
    "\n",
    "# Vary minimum leaf size:\n",
    "leafs = np.arange(1, 5, 1)\n",
    "errors2 = np.empty(len(leafs))\n",
    "\n",
    "for ind, leaf_size in enumerate(leafs):\n",
    "    print(\"Current leaf-size: {0:10.4f}\".format(leaf_size))\n",
    "    clf.set_params(min_samples_leaf=leaf_size)\n",
    "    errors2[ind] = np.mean(cross_val_score(clf, x_train_t, y_train, cv=ss))"
   ]
  },
  {
   "cell_type": "code",
   "execution_count": 18,
   "metadata": {},
   "outputs": [
    {
     "data": {
      "text/plain": [
       "[<matplotlib.lines.Line2D at 0x1b41eafd978>]"
      ]
     },
     "execution_count": 18,
     "metadata": {},
     "output_type": "execute_result"
    },
    {
     "data": {
      "image/png": "[encoded data removed]",
      "text/plain": [
       "<matplotlib.figure.Figure at 0x1b41cdcd0b8>"
      ]
     },
     "metadata": {},
     "output_type": "display_data"
    }
   ],
   "source": [
    "plt.figure()\n",
    "plt.plot(leafs, errors2)"
   ]
  },
  {
   "cell_type": "code",
   "execution_count": 8,
   "metadata": {},
   "outputs": [
    {
     "name": "stdout",
     "output_type": "stream",
     "text": [
      "0.83925\n",
      "0.85325\n",
      "0.9678\n",
      "0.9706\n"
     ]
    }
   ],
   "source": [
    "from sklearn.model_selection import train_test_split\n",
    "\n",
    "x_train1, x_test1, y_train1, y_test1 = train_test_split(x_train, y_train, test_size=0.2)\n",
    "\n",
    "rand_clf = RandomForestClassifier(n_estimators=1000, min_samples_leaf=1, n_jobs=-1, criterion = 'gini')\n",
    "extra_clf = ExtraTreesClassifier(n_estimators=1000, min_samples_leaf=1, n_jobs=-1, criterion = 'gini')\n",
    "\n",
    "rand_clf.fit(x_train1, y_train1)\n",
    "extra_clf.fit(x_train1, y_train1)\n",
    "\n",
    "rand_y_test = rand_clf.predict(x_test1)\n",
    "extra_y_test = extra_clf.predict(x_test1)\n",
    "\n",
    "print(rand_clf.score(x_test1, y_test1))\n",
    "print(extra_clf.score(x_test1, y_test1))\n",
    "print(rand_clf.score(x_train, y_train))\n",
    "print(extra_clf.score(x_train, y_train))"
   ]
  },
  {
   "cell_type": "code",
   "execution_count": 5,
   "metadata": {
    "collapsed": true
   },
   "outputs": [],
   "source": [
    "rand_clf = RandomForestClassifier(n_estimators=1000, min_samples_leaf=1, n_jobs=-1, criterion = 'gini')\n",
    "extra_clf = ExtraTreesClassifier(n_estimators=1000, min_samples_leaf=1, n_jobs=-1, criterion = 'gini')\n",
    "\n",
    "rand_clf.fit(x_train_t, y_train)\n",
    "extra_clf.fit(x_train_t, y_train)\n",
    "\n",
    "rand_y_test = rand_clf.predict(x_test)\n",
    "extra_y_test = extra_clf.predict(x_test)"
   ]
  },
  {
   "cell_type": "code",
   "execution_count": 7,
   "metadata": {},
   "outputs": [],
   "source": [
    "prob_rand = rand_clf.predict_proba(x_test)\n",
    "prob_extra = extra_clf.predict_proba(x_test)\n",
    "\n",
    "np.savetxt('prob_rand.txt', prob_rand)\n",
    "np.savetxt('prob_extra.txt', prob_extra)"
   ]
  },
  {
   "cell_type": "code",
   "execution_count": 10,
   "metadata": {},
   "outputs": [
    {
     "data": {
      "text/plain": [
       "array([[ 0.07 ,  0.93 ],\n",
       "       [ 0.323,  0.677],\n",
       "       [ 0.607,  0.393],\n",
       "       ..., \n",
       "       [ 0.988,  0.012],\n",
       "       [ 0.147,  0.853],\n",
       "       [ 0.534,  0.466]])"
      ]
     },
     "execution_count": 10,
     "metadata": {},
     "output_type": "execute_result"
    }
   ],
   "source": [
    "prob_rand"
   ]
  },
  {
   "cell_type": "code",
   "execution_count": 113,
   "metadata": {},
   "outputs": [
    {
     "name": "stdout",
     "output_type": "stream",
     "text": [
      "0.835\n",
      "0.84625\n",
      "0.96695\n",
      "0.9692\n"
     ]
    }
   ],
   "source": [
    "print(rand_clf.score(x_test1, y_test1))\n",
    "print(extra_clf.score(x_test1, y_test1))\n",
    "print(rand_clf.score(x_train, y_train))\n",
    "print(extra_clf.score(x_train, y_train))"
   ]
  },
  {
   "cell_type": "code",
   "execution_count": null,
   "metadata": {
    "collapsed": true
   },
   "outputs": [],
   "source": [
    "def convert(y_test, filename):\n",
    "    \"\"\"\n",
    "    Converts the y_test vector to submission file and saves to filename\n",
    "    \n",
    "    Inputs:\n",
    "        y_test: A (N, ) array with the predicted results for the test set\n",
    "        filename: String name of file\n",
    "        \n",
    "    Outputs:\n",
    "        None\n",
    "    \"\"\"\n",
    "    \n",
    "    text_file = np.array([[i+1, int(y_test[i])] for i in range(len(y_test))])\n",
    "    np.savetxt(filename, text_file, fmt='%d', delimiter=',')\n",
    "    \n",
    "    f = open(filename,'r+')\n",
    "    lines = f.readlines() # read old content\n",
    "    f.seek(0) # go back to the beginning of the file\n",
    "    f.write('Id,Prediction\\n') # write new content at the beginning\n",
    "    for line in lines: # write old content after new\n",
    "        f.write(line)\n",
    "    f.close()"
   ]
  },
  {
   "cell_type": "code",
   "execution_count": 115,
   "metadata": {
    "collapsed": true
   },
   "outputs": [],
   "source": [
    "convert(rand_y_test, 'rand_for_leaf1.txt')\n",
    "convert(extra_y_test, 'extra_for_leaf1.txt')"
   ]
  },
  {
   "cell_type": "code",
   "execution_count": 93,
   "metadata": {
    "collapsed": true
   },
   "outputs": [],
   "source": [
    "convert(rand_clf.predict(x_train), 'rand_for_train.txt')\n",
    "convert(extra_clf.predict(x_train), 'extra_for_train.txt')"
   ]
  },
  {
   "cell_type": "code",
   "execution_count": null,
   "metadata": {
    "collapsed": true
   },
   "outputs": [],
   "source": []
  }
 ],
 "metadata": {
  "kernelspec": {
   "display_name": "Python [conda root]",
   "language": "python",
   "name": "conda-root-py"
  },
  "language_info": {
   "codemirror_mode": {
    "name": "ipython",
    "version": 3
   },
   "file_extension": ".py",
   "mimetype": "text/x-python",
   "name": "python",
   "nbconvert_exporter": "python",
   "pygments_lexer": "ipython3",
   "version": "3.6.2"
  }
 },
 "nbformat": 4,
 "nbformat_minor": 2
}
