{
 "cells": [
  {
   "cell_type": "code",
   "execution_count": 1,
   "metadata": {
    "collapsed": true
   },
   "outputs": [],
   "source": [
    "# Import random shit\n",
    "import numpy as np\n",
    "import matplotlib.pyplot as plt\n",
    "\n",
    "# Get that yum yum sklearn\n",
    "from sklearn.feature_extraction.text import TfidfTransformer as TFT\n",
    "from sklearn.naive_bayes import MultinomialNB as MNB\n",
    "\n",
    "# Cross validation\n",
    "from sklearn.model_selection import GridSearchCV\n",
    "from sklearn.model_selection import ShuffleSplit\n",
    "\n",
    "%matplotlib inline"
   ]
  },
  {
   "cell_type": "code",
   "execution_count": 2,
   "metadata": {
    "collapsed": true
   },
   "outputs": [],
   "source": [
    "# Load our data and shit\n",
    "train_data = np.loadtxt('./training_data.txt', skiprows=1, delimiter=' ')\n",
    "test_data = np.loadtxt('./test_data.txt', skiprows=1, delimiter=' ')"
   ]
  },
  {
   "cell_type": "code",
   "execution_count": 3,
   "metadata": {
    "collapsed": true
   },
   "outputs": [],
   "source": [
    "# Split training and test set into x and y\n",
    "scaler = TFT()\n",
    "\n",
    "x_train = scaler.fit_transform(train_data[:, 1:])\n",
    "y_train = train_data[:, 0]\n",
    "\n",
    "x_test = scaler.transform(test_data)"
   ]
  },
  {
   "cell_type": "code",
   "execution_count": 13,
   "metadata": {},
   "outputs": [
    {
     "name": "stdout",
     "output_type": "stream",
     "text": [
      "Fitting 5 folds for each of 4 candidates, totalling 20 fits\n",
      "[CV] alpha=7.5 .......................................................\n",
      "[CV] ........................... alpha=7.5, score=0.832, total=   0.0s\n",
      "[Parallel(n_jobs=1)]: Done   1 out of   1 | elapsed:    0.0s remaining:    0.0s\n",
      "[CV] alpha=7.5 .......................................................\n",
      "[CV] ......................... alpha=7.5, score=0.83225, total=   0.0s\n",
      "[Parallel(n_jobs=1)]: Done   2 out of   2 | elapsed:    0.2s remaining:    0.0s\n",
      "[CV] alpha=7.5 .......................................................\n",
      "[CV] .......................... alpha=7.5, score=0.8225, total=   0.0s\n",
      "[Parallel(n_jobs=1)]: Done   3 out of   3 | elapsed:    0.3s remaining:    0.0s\n",
      "[CV] alpha=7.5 .......................................................\n",
      "[CV] ......................... alpha=7.5, score=0.82625, total=   0.0s\n",
      "[Parallel(n_jobs=1)]: Done   4 out of   4 | elapsed:    0.5s remaining:    0.0s\n",
      "[CV] alpha=7.5 .......................................................\n",
      "[CV] .......................... alpha=7.5, score=0.8375, total=   0.0s\n",
      "[Parallel(n_jobs=1)]: Done   5 out of   5 | elapsed:    0.6s remaining:    0.0s\n",
      "[CV] alpha=10 ........................................................\n",
      "[CV] .......................... alpha=10, score=0.83175, total=   0.0s\n",
      "[Parallel(n_jobs=1)]: Done   6 out of   6 | elapsed:    0.7s remaining:    0.0s\n",
      "[CV] alpha=10 ........................................................\n",
      "[CV] .......................... alpha=10, score=0.83325, total=   0.0s\n",
      "[Parallel(n_jobs=1)]: Done   7 out of   7 | elapsed:    0.9s remaining:    0.0s\n",
      "[CV] alpha=10 ........................................................\n",
      "[CV] .......................... alpha=10, score=0.82325, total=   0.0s\n",
      "[Parallel(n_jobs=1)]: Done   8 out of   8 | elapsed:    1.0s remaining:    0.0s\n",
      "[CV] alpha=10 ........................................................\n",
      "[CV] .......................... alpha=10, score=0.82725, total=   0.1s\n",
      "[Parallel(n_jobs=1)]: Done   9 out of   9 | elapsed:    1.3s remaining:    0.0s\n",
      "[CV] alpha=10 ........................................................\n",
      "[CV] .......................... alpha=10, score=0.83825, total=   0.0s\n",
      "[Parallel(n_jobs=1)]: Done  10 out of  10 | elapsed:    1.4s remaining:    0.0s\n",
      "[CV] alpha=12.5 ......................................................\n",
      "[CV] ........................ alpha=12.5, score=0.83175, total=   0.0s\n",
      "[Parallel(n_jobs=1)]: Done  11 out of  11 | elapsed:    1.6s remaining:    0.0s\n",
      "[CV] alpha=12.5 ......................................................\n",
      "[CV] ........................ alpha=12.5, score=0.83225, total=   0.1s\n",
      "[Parallel(n_jobs=1)]: Done  12 out of  12 | elapsed:    1.8s remaining:    0.0s\n",
      "[CV] alpha=12.5 ......................................................\n",
      "[CV] .......................... alpha=12.5, score=0.824, total=   0.0s\n",
      "[Parallel(n_jobs=1)]: Done  13 out of  13 | elapsed:    1.9s remaining:    0.0s\n",
      "[CV] alpha=12.5 ......................................................\n",
      "[CV] ........................ alpha=12.5, score=0.82625, total=   0.0s\n",
      "[Parallel(n_jobs=1)]: Done  14 out of  14 | elapsed:    2.1s remaining:    0.0s\n",
      "[CV] alpha=12.5 ......................................................\n",
      "[CV] ........................ alpha=12.5, score=0.83775, total=   0.0s\n",
      "[Parallel(n_jobs=1)]: Done  15 out of  15 | elapsed:    2.2s remaining:    0.0s\n",
      "[CV] alpha=15 ........................................................\n",
      "[CV] .......................... alpha=15, score=0.83125, total=   0.0s\n",
      "[Parallel(n_jobs=1)]: Done  16 out of  16 | elapsed:    2.4s remaining:    0.0s\n",
      "[CV] alpha=15 ........................................................\n",
      "[CV] ........................... alpha=15, score=0.8315, total=   0.0s\n",
      "[Parallel(n_jobs=1)]: Done  17 out of  17 | elapsed:    2.5s remaining:    0.0s\n",
      "[CV] alpha=15 ........................................................\n",
      "[CV] .......................... alpha=15, score=0.82575, total=   0.1s\n",
      "[Parallel(n_jobs=1)]: Done  18 out of  18 | elapsed:    2.7s remaining:    0.0s\n",
      "[CV] alpha=15 ........................................................\n",
      "[CV] .......................... alpha=15, score=0.82575, total=   0.1s\n",
      "[Parallel(n_jobs=1)]: Done  19 out of  19 | elapsed:    2.9s remaining:    0.0s\n",
      "[CV] alpha=15 ........................................................\n",
      "[CV] ............................ alpha=15, score=0.836, total=   0.0s\n",
      "[Parallel(n_jobs=1)]: Done  20 out of  20 | elapsed:    3.1s remaining:    0.0s\n",
      "[Parallel(n_jobs=1)]: Done  20 out of  20 | elapsed:    3.1s finished\n"
     ]
    },
    {
     "data": {
      "text/plain": [
       "GridSearchCV(cv=ShuffleSplit(n_splits=5, random_state=None, test_size=0.2, train_size=None),\n",
       "       error_score='raise',\n",
       "       estimator=MultinomialNB(alpha=1.0, class_prior=None, fit_prior=True),\n",
       "       fit_params=None, iid=True, n_jobs=1,\n",
       "       param_grid={'alpha': [7.5, 10, 12.5, 15]}, pre_dispatch='2*n_jobs',\n",
       "       refit=True, return_train_score=True, scoring=None, verbose=50)"
      ]
     },
     "execution_count": 13,
     "metadata": {},
     "output_type": "execute_result"
    }
   ],
   "source": [
    "params = {'alpha':[7.5, 10, 12.5, 15]}\n",
    "\n",
    "MNB_clf = MNB()\n",
    "ss = ShuffleSplit(n_splits=5, test_size=0.2)\n",
    "\n",
    "clf = GridSearchCV(MNB_clf, params, cv=ss, n_jobs=1, verbose=50)\n",
    "\n",
    "clf.fit(x_train, y_train)"
   ]
  },
  {
   "cell_type": "code",
   "execution_count": 20,
   "metadata": {},
   "outputs": [],
   "source": [
    "MNB_y = clf.predict(x_test)\n",
    "MNB_probs = clf.predict_proba(x_test)"
   ]
  },
  {
   "cell_type": "code",
   "execution_count": 16,
   "metadata": {
    "collapsed": true
   },
   "outputs": [],
   "source": [
    "def convert(y_test, filename):\n",
    "    \"\"\"\n",
    "    Converts the y_test vector to submission file and saves to filename\n",
    "    \n",
    "    Inputs:\n",
    "        y_test: A (N, ) array with the predicted results for the test set\n",
    "        filename: String name of file\n",
    "        \n",
    "    Outputs:\n",
    "        None\n",
    "    \"\"\"\n",
    "    \n",
    "    text_file = np.array([[i+1, int(y_test[i])] for i in range(len(y_test))])\n",
    "    np.savetxt(filename, text_file, fmt='%d', delimiter=',')\n",
    "    \n",
    "    f = open(filename,'r+')\n",
    "    lines = f.readlines() # read old content\n",
    "    f.seek(0) # go back to the beginning of the file\n",
    "    f.write('Id,Prediction\\n') # write new content at the beginning\n",
    "    for line in lines: # write old content after new\n",
    "        f.write(line)\n",
    "    f.close()"
   ]
  },
  {
   "cell_type": "code",
   "execution_count": 22,
   "metadata": {},
   "outputs": [],
   "source": [
    "convert(MNB_y, 'MNB.txt')\n",
    "np.savetxt('MNB_prob.txt', MNB_probs)"
   ]
  },
  {
   "cell_type": "code",
   "execution_count": null,
   "metadata": {
    "collapsed": true
   },
   "outputs": [],
   "source": []
  }
 ],
 "metadata": {
  "kernelspec": {
   "display_name": "Python [conda root]",
   "language": "python",
   "name": "conda-root-py"
  },
  "language_info": {
   "codemirror_mode": {
    "name": "ipython",
    "version": 3
   },
   "file_extension": ".py",
   "mimetype": "text/x-python",
   "name": "python",
   "nbconvert_exporter": "python",
   "pygments_lexer": "ipython3",
   "version": "3.6.2"
  }
 },
 "nbformat": 4,
 "nbformat_minor": 2
}
