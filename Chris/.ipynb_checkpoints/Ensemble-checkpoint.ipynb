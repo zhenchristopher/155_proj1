{
 "cells": [
  {
   "cell_type": "code",
   "execution_count": 52,
   "metadata": {
    "collapsed": true
   },
   "outputs": [],
   "source": [
    "# Import random shit\n",
    "import numpy as np\n",
    "import matplotlib.pyplot as plt\n",
    "\n",
    "# Get that yum yum sklearn\n",
    "from sklearn import tree\n",
    "from sklearn.ensemble import RandomForestClassifier\n",
    "from sklearn.ensemble import ExtraTreesClassifier\n",
    "from sklearn.preprocessing import StandardScaler\n",
    "from sklearn.svm import LinearSVC\n",
    "from sklearn.feature_extraction.text import TfidfTransformer as TFT\n",
    "\n",
    "# Cross validation\n",
    "from sklearn.model_selection import cross_val_score\n",
    "from sklearn.model_selection import ShuffleSplit\n",
    "\n",
    "%matplotlib inline"
   ]
  },
  {
   "cell_type": "code",
   "execution_count": 13,
   "metadata": {
    "collapsed": true
   },
   "outputs": [],
   "source": [
    "def load_data(filename):\n",
    "    \"\"\"\n",
    "    Load our data from text file\n",
    "    \n",
    "    Inputs:\n",
    "        filename: String file name\n",
    "        \n",
    "    Outputs:\n",
    "        array: A (N, ) array with classification of each point\n",
    "    \"\"\"\n",
    "    \n",
    "    array = np.loadtxt(filename, skiprows=1, delimiter=',')\n",
    "    return array[:, 1]\n",
    "\n",
    "def convert(y_test, filename):\n",
    "    \"\"\"\n",
    "    Converts the y_test vector to submission file and saves to filename\n",
    "    \n",
    "    Inputs:\n",
    "        y_test: A (N, ) array with the predicted results for the test set\n",
    "        filename: String name of file\n",
    "        \n",
    "    Outputs:\n",
    "        None\n",
    "    \"\"\"\n",
    "    \n",
    "    text_file = np.array([[i+1, int(y_test[i])] for i in range(len(y_test))])\n",
    "    np.savetxt(filename, text_file, fmt='%d', delimiter=',')\n",
    "    \n",
    "    f = open(filename,'r+')\n",
    "    lines = f.readlines() # read old content\n",
    "    f.seek(0) # go back to the beginning of the file\n",
    "    f.write('Id,Prediction\\n') # write new content at the beginning\n",
    "    for line in lines: # write old content after new\n",
    "        f.write(line)\n",
    "    f.close()"
   ]
  },
  {
   "cell_type": "code",
   "execution_count": 10,
   "metadata": {
    "collapsed": true
   },
   "outputs": [],
   "source": [
    "# Easy voting\n",
    "x_train_vote = np.empty((10000, 5))\n",
    "x_train_vote[:, 0] = load_data('./AdaBoost_depth2.txt')\n",
    "x_train_vote[:, 1] = load_data('./rand_for_leaf1.txt')\n",
    "x_train_vote[:, 2] = load_data('./extra_for_leaf1.txt')\n",
    "x_train_vote[:, 3] = -1*(load_data('./d_nn_1.txt')) + np.ones(10000)\n",
    "x_train_vote[:, 4] = load_data('./drunk.txt')"
   ]
  },
  {
   "cell_type": "code",
   "execution_count": 66,
   "metadata": {
    "collapsed": true
   },
   "outputs": [],
   "source": [
    "david = np.loadtxt('ensemble.txt')"
   ]
  },
  {
   "cell_type": "code",
   "execution_count": 11,
   "metadata": {
    "collapsed": true
   },
   "outputs": [],
   "source": [
    "weights = np.array([0.8196**2, 0.831**2, 0.8448**2, 0.8404**2, 0.8392**2])\n",
    "\n",
    "final = np.dot(x_train_vote, weights.T) / np.sum(np.square(weights))\n",
    "final = np.floor(final + np.ones(len(final)) * 0.5)"
   ]
  },
  {
   "cell_type": "code",
   "execution_count": 85,
   "metadata": {},
   "outputs": [
    {
     "data": {
      "text/plain": [
       "698.0"
      ]
     },
     "execution_count": 85,
     "metadata": {},
     "output_type": "execute_result"
    }
   ],
   "source": [
    "np.sum(np.abs(david - final))"
   ]
  },
  {
   "cell_type": "code",
   "execution_count": 12,
   "metadata": {
    "collapsed": true
   },
   "outputs": [],
   "source": [
    "convert(final, 'votes_4.txt')"
   ]
  },
  {
   "cell_type": "markdown",
   "metadata": {},
   "source": [
    "# Voting with probabilities:"
   ]
  },
  {
   "cell_type": "code",
   "execution_count": 73,
   "metadata": {},
   "outputs": [],
   "source": [
    "ada_vote = np.loadtxt('AdaBoost_prob.txt', delimiter=' ')\n",
    "rand_vote = np.loadtxt('prob_rand.txt', delimiter=' ')\n",
    "extra_vote = np.loadtxt('prob_extra.txt', delimiter=' ')\n",
    "MNB_vote = np.loadtxt('MNB_prob.txt', delimiter=' ')\n",
    "log_vote = np.loadtxt('log_reg_probs.txt', delimiter=' ')\n",
    "SVM_vote = np.loadtxt('SVM_probs.txt', delimiter=' ')\n",
    "nn_vote = np.empty((len(ada_vote), 2))\n",
    "nn_vote[:, 0] = np.ones(len(ada_vote)) - np.loadtxt('NN_ReLU_final.txt')\n",
    "nn_vote[:, 1] = np.loadtxt('NN_ReLU_final.txt')\n",
    "nn_sig = np.empty((len(ada_vote), 2))\n",
    "nn_sig[:, 0] = np.ones(len(ada_vote)) - np.loadtxt('sigmoid_probs.txt')\n",
    "nn_sig[:, 1] = np.loadtxt('sigmoid_probs.txt')\n",
    "xg_vote = np.empty((len(ada_vote), 2))\n",
    "xg_vote[:, 1] = np.loadtxt('xgboost_opt_probs.txt', skiprows=1, delimiter=',')[:, 1]\n",
    "xg_vote[:, 0] = np.ones(len(ada_vote)) - xg_vote[:, 1]"
   ]
  },
  {
   "cell_type": "code",
   "execution_count": 50,
   "metadata": {
    "collapsed": true
   },
   "outputs": [],
   "source": [
    "# Load our data and shit\n",
    "train_data = np.loadtxt('./training_data.txt', skiprows=1, delimiter=' ')\n",
    "test_data = np.loadtxt('./test_data.txt', skiprows=1, delimiter=' ')"
   ]
  },
  {
   "cell_type": "code",
   "execution_count": 53,
   "metadata": {},
   "outputs": [],
   "source": [
    "# Split training and test set into x and y\n",
    "scaler = StandardScaler()\n",
    "scaler_t = TFT()\n",
    "\n",
    "x_train = scaler_t.fit_transform(train_data[:, 1:])\n",
    "\n",
    "x_test = scaler_t.transform(test_data)"
   ]
  },
  {
   "cell_type": "code",
   "execution_count": 97,
   "metadata": {},
   "outputs": [],
   "source": [
    "test = (np.sqrt(ada_vote) +\n",
    "        np.sqrt(rand_vote) +\n",
    "        np.sqrt(extra_vote) + \n",
    "        np.sqrt(MNB_vote) + \n",
    "        np.sqrt(log_vote) + \n",
    "        np.sqrt(SVM_vote) + \n",
    "        np.sqrt(nn_vote) + \n",
    "        np.sqrt(nn_sig) + \n",
    "        np.sqrt(xg_vote) ) / 9\n",
    "\n",
    "q_inds = [ind for ind in range(len(test)) if abs(test[ind, 0] - test[ind, 1]) < 0.1]"
   ]
  },
  {
   "cell_type": "code",
   "execution_count": 98,
   "metadata": {},
   "outputs": [
    {
     "data": {
      "text/plain": [
       "1176"
      ]
     },
     "execution_count": 98,
     "metadata": {},
     "output_type": "execute_result"
    }
   ],
   "source": [
    "len(q_inds)"
   ]
  },
  {
   "cell_type": "code",
   "execution_count": 61,
   "metadata": {},
   "outputs": [
    {
     "name": "stderr",
     "output_type": "stream",
     "text": [
      "IOPub data rate exceeded.\n",
      "The notebook server will temporarily stop sending output\n",
      "to the client in order to avoid crashing it.\n",
      "To change this limit, set the config variable\n",
      "`--NotebookApp.iopub_data_rate_limit`.\n"
     ]
    }
   ],
   "source": [
    "[test_data[ind] for ind in q_inds]"
   ]
  },
  {
   "cell_type": "code",
   "execution_count": 78,
   "metadata": {},
   "outputs": [],
   "source": [
    "weights = [0.8495**2, 0.862**2, 0.85365**2, 0.8444**2, 0.845**2, 0.851**2]\n",
    "models = [np.square(extra_vote),\n",
    "          np.square(nn_vote),\n",
    "          np.square(log_vote),\n",
    "          np.square(xg_vote),\n",
    "          np.square(SVM_vote),\n",
    "          np.square(nn_sig)]\n",
    "final = np.zeros(ada_vote.shape)\n",
    "\n",
    "for ind, weight in enumerate(weights):\n",
    "    final += weight * models[ind]\n",
    "    \n",
    "final_w = np.argmax(final, axis=1)"
   ]
  },
  {
   "cell_type": "code",
   "execution_count": 14,
   "metadata": {
    "collapsed": true
   },
   "outputs": [],
   "source": [
    "votes_7 = load_data('votes_7.txt')\n",
    "votes_2 = load_data('votes_2.txt')\n",
    "votes_5 = load_data('votes_5.txt')\n",
    "votes_6 = load_data('votes_6.txt')\n",
    "votes_3 = load_data('votes_3.txt')\n",
    "votes_4 = load_data('votes_4.txt')"
   ]
  },
  {
   "cell_type": "code",
   "execution_count": 16,
   "metadata": {},
   "outputs": [
    {
     "name": "stdout",
     "output_type": "stream",
     "text": [
      "783.0\n",
      "734.0\n",
      "735.0\n",
      "458.0\n",
      "306.0\n"
     ]
    }
   ],
   "source": [
    "print(np.sum(np.abs(votes_7 - votes_2)))\n",
    "print(np.sum(np.abs(votes_5 - votes_2)))\n",
    "print(np.sum(np.abs(votes_6 - votes_2)))\n",
    "print(np.sum(np.abs(votes_3 - votes_2)))\n",
    "print(np.sum(np.abs(votes_4 - votes_2)))"
   ]
  },
  {
   "cell_type": "code",
   "execution_count": 79,
   "metadata": {},
   "outputs": [],
   "source": [
    "convert(final_w, 'votes_9.txt')"
   ]
  },
  {
   "cell_type": "markdown",
   "metadata": {},
   "source": [
    "# Train on training data (doesn't really work)"
   ]
  },
  {
   "cell_type": "code",
   "execution_count": 10,
   "metadata": {
    "collapsed": true
   },
   "outputs": [],
   "source": [
    "x_train = np.empty((len(nn_train), 4))\n",
    "x_train[:, 0] = load_data('./AdaBoost_train.txt')\n",
    "x_train[:, 1] = load_data('./rand_for_train.txt')\n",
    "x_train[:, 2] = load_data('./extra_for_train.txt')\n",
    "x_train[:, 3] = load_data('./y_training_nets.txt')"
   ]
  },
  {
   "cell_type": "code",
   "execution_count": 9,
   "metadata": {
    "collapsed": true
   },
   "outputs": [],
   "source": [
    "# Load our data and shit\n",
    "train_data = np.loadtxt('./training_data.txt', skiprows=1, delimiter=' ')\n",
    "test_data = np.loadtxt('./test_data.txt', skiprows=1, delimiter=' ')\n",
    "\n",
    "# Split training and test set into x and y\n",
    "y_train = train_data[:, 0]"
   ]
  },
  {
   "cell_type": "code",
   "execution_count": 12,
   "metadata": {},
   "outputs": [
    {
     "data": {
      "text/plain": [
       "array([[ 1.,  1.,  1.,  1.],\n",
       "       [ 1.,  1.,  1.,  1.],\n",
       "       [ 1.,  1.,  1.,  1.],\n",
       "       [ 1.,  1.,  1.,  1.],\n",
       "       [ 0.,  0.,  0.,  0.],\n",
       "       [ 1.,  1.,  1.,  0.],\n",
       "       [ 0.,  0.,  0.,  0.],\n",
       "       [ 0.,  0.,  0.,  0.],\n",
       "       [ 1.,  1.,  1.,  1.],\n",
       "       [ 1.,  1.,  1.,  1.]])"
      ]
     },
     "execution_count": 12,
     "metadata": {},
     "output_type": "execute_result"
    }
   ],
   "source": [
    "x_train[:10]"
   ]
  },
  {
   "cell_type": "code",
   "execution_count": 23,
   "metadata": {},
   "outputs": [
    {
     "name": "stdout",
     "output_type": "stream",
     "text": [
      "-1\n"
     ]
    },
    {
     "ename": "AttributeError",
     "evalue": "'LinearSVC' object has no attribute 'coef_'",
     "output_type": "error",
     "traceback": [
      "\u001b[1;31m---------------------------------------------------------------------------\u001b[0m",
      "\u001b[1;31mAttributeError\u001b[0m                            Traceback (most recent call last)",
      "\u001b[1;32m<ipython-input-23-8590c06d8852>\u001b[0m in \u001b[0;36m<module>\u001b[1;34m()\u001b[0m\n\u001b[0;32m      8\u001b[0m     \u001b[0mclf\u001b[0m\u001b[1;33m.\u001b[0m\u001b[0mset_params\u001b[0m\u001b[1;33m(\u001b[0m\u001b[0mC\u001b[0m\u001b[1;33m=\u001b[0m\u001b[0mnp\u001b[0m\u001b[1;33m.\u001b[0m\u001b[0mexp\u001b[0m\u001b[1;33m(\u001b[0m\u001b[0mreg\u001b[0m\u001b[1;33m)\u001b[0m\u001b[1;33m)\u001b[0m\u001b[1;33m\u001b[0m\u001b[0m\n\u001b[0;32m      9\u001b[0m     \u001b[0merrors\u001b[0m\u001b[1;33m[\u001b[0m\u001b[0mind\u001b[0m\u001b[1;33m]\u001b[0m \u001b[1;33m=\u001b[0m \u001b[0mnp\u001b[0m\u001b[1;33m.\u001b[0m\u001b[0mmean\u001b[0m\u001b[1;33m(\u001b[0m\u001b[0mcross_val_score\u001b[0m\u001b[1;33m(\u001b[0m\u001b[0mclf\u001b[0m\u001b[1;33m,\u001b[0m \u001b[0mx_train\u001b[0m\u001b[1;33m,\u001b[0m \u001b[0my_train\u001b[0m\u001b[1;33m,\u001b[0m \u001b[0mcv\u001b[0m\u001b[1;33m=\u001b[0m\u001b[0mss\u001b[0m\u001b[1;33m)\u001b[0m\u001b[1;33m)\u001b[0m\u001b[1;33m\u001b[0m\u001b[0m\n\u001b[1;32m---> 10\u001b[1;33m     \u001b[0mprint\u001b[0m\u001b[1;33m(\u001b[0m\u001b[0mclf\u001b[0m\u001b[1;33m.\u001b[0m\u001b[0mcoef_\u001b[0m\u001b[1;33m)\u001b[0m\u001b[1;33m\u001b[0m\u001b[0m\n\u001b[0m",
      "\u001b[1;31mAttributeError\u001b[0m: 'LinearSVC' object has no attribute 'coef_'"
     ]
    }
   ],
   "source": [
    "c = np.arange(-1, 5)\n",
    "errors = np.empty(len(c))\n",
    "ss = ShuffleSplit(n_splits=5, test_size=0.2, random_state=0)\n",
    "clf = LinearSVC()\n",
    "    \n",
    "for ind, reg in enumerate(c):\n",
    "    print(reg)\n",
    "    clf.set_params(C=np.exp(reg))\n",
    "    errors[ind] = np.mean(cross_val_score(clf, x_train, y_train, cv=ss))\n",
    "    print(clf.coef_)"
   ]
  },
  {
   "cell_type": "code",
   "execution_count": 24,
   "metadata": {},
   "outputs": [
    {
     "name": "stdout",
     "output_type": "stream",
     "text": [
      "[[  1.99882819e+00   2.32857545e-03  -3.56624451e-04  -9.19096588e-04]]\n"
     ]
    }
   ],
   "source": [
    "clf = LinearSVC()\n",
    "clf.fit(x_train, y_train)\n",
    "print(clf.coef_)"
   ]
  },
  {
   "cell_type": "code",
   "execution_count": 17,
   "metadata": {},
   "outputs": [
    {
     "data": {
      "text/plain": [
       "[<matplotlib.lines.Line2D at 0x219d2638f98>]"
      ]
     },
     "execution_count": 17,
     "metadata": {},
     "output_type": "execute_result"
    },
    {
     "data": {
      "image/png": "[encoded data removed]",
      "text/plain": [
       "<matplotlib.figure.Figure at 0x219d27f7048>"
      ]
     },
     "metadata": {},
     "output_type": "display_data"
    }
   ],
   "source": [
    "plt.figure()\n",
    "plt.semilogx(c, errors)"
   ]
  },
  {
   "cell_type": "code",
   "execution_count": 22,
   "metadata": {},
   "outputs": [
    {
     "data": {
      "text/plain": [
       "array([ 0.99995,  0.99995,  0.99995,  0.99995,  0.99995,  0.99995])"
      ]
     },
     "execution_count": 22,
     "metadata": {},
     "output_type": "execute_result"
    }
   ],
   "source": [
    "errors"
   ]
  },
  {
   "cell_type": "code",
   "execution_count": null,
   "metadata": {
    "collapsed": true
   },
   "outputs": [],
   "source": []
  }
 ],
 "metadata": {
  "kernelspec": {
   "display_name": "Python [conda root]",
   "language": "python",
   "name": "conda-root-py"
  },
  "language_info": {
   "codemirror_mode": {
    "name": "ipython",
    "version": 3
   },
   "file_extension": ".py",
   "mimetype": "text/x-python",
   "name": "python",
   "nbconvert_exporter": "python",
   "pygments_lexer": "ipython3",
   "version": "3.6.2"
  }
 },
 "nbformat": 4,
 "nbformat_minor": 2
}
